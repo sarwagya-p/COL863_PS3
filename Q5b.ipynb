{
 "cells": [
  {
   "cell_type": "code",
   "execution_count": 96,
   "metadata": {
    "collapsed": false
   },
   "outputs": [
   ],
   "source": [
    "R3.<x, y, z> = GF(3)[]\n",
    "\n",
    "def kronecker_map(f, n, R):\n",
    "    vars = R.gens()\n",
    "    \n",
    "    kmap = {}\n",
    "    p = 1\n",
    "    \n",
    "    for v in vars:\n",
    "        kmap[v] = R.gen(0)^p\n",
    "        p *= n\n",
    "        \n",
    "    return f.subs(kmap)\n",
    "\n",
    "def inv_kronecker_map(f, n, R):\n",
    "    inv_f = 0\n",
    "    vars = R.gens()\n",
    "    \n",
    "    for coeff, monom in list(f):\n",
    "        inv_term = coeff\n",
    "        \n",
    "        cur_var_idx = 0\n",
    "        deg = int(monom.degree(vars[0]))\n",
    "        \n",
    "        while deg > 0:\n",
    "            inv_term *= vars[cur_var_idx] ^(deg % n)\n",
    "            deg //= n\n",
    "            cur_var_idx += 1\n",
    "        \n",
    "        inv_f += inv_term\n",
    "            \n",
    "    return inv_f\n",
    "    \n",
    "    \n",
    "def factorize(f):\n",
    "    H = list(f.factor())\n",
    "    # Constructing the list of elements to choose from\n",
    "    elements = []\n",
    "    for factor, multiplicity in H:\n",
    "        elements.extend([factor] * multiplicity)\n",
    "        \n",
    "    return elements"
   ]
  },
  {
   "cell_type": "code",
   "execution_count": 103,
   "metadata": {
    "collapsed": false
   },
   "outputs": [
   ],
   "source": [
    "from sage.combinat.combination import Combinations\n",
    "\n",
    "def kronecker_get_factor(f, R):\n",
    "    degs = [f.degree(var) for var in R.gens()]\n",
    "    n = max(degs)+1\n",
    "    print(\"Max Degree: \", n)\n",
    "    kf = kronecker_map(f, n, R)\n",
    "    print(\"Applying Kronecker Map: \", kf)\n",
    "    H = factorize(kf)\n",
    "    \n",
    "    print(\"Factors after kronecker map: \", H)\n",
    "    G = []\n",
    "    \n",
    "    for i in range(1, len(H)//2+1):\n",
    "        for S in Combinations(H, i):\n",
    "            g = 1\n",
    "            \n",
    "            for t in S:\n",
    "                g *= t\n",
    "            \n",
    "            inv_g = inv_kronecker_map(g, n, R)\n",
    "            \n",
    "            if inv_g.divides(f):\n",
    "                print(\"Recovered factor: \", inv_g)\n",
    "                return inv_g\n",
    "    print(\"Given f is irreducible,, returning factor: \", f)\n",
    "    return f\n",
    "    \n",
    "\n"
   ]
  },
  {
   "cell_type": "code",
   "execution_count": 107,
   "metadata": {
    "collapsed": false,
    "scrolled": true
   },
   "outputs": [
    {
     "name": "stdout",
     "output_type": "stream",
     "text": [
      "Factorizing polynomial:  -x^4*y + x^3*z + x*z^2 + y*z^2\n",
      "Max Degree:  5\n",
      "Applying Kronecker Map:  x^55 + x^51 + x^28 - x^9\n",
      "Factors after kronecker map:  [x + 1, x + 1, x + 1, x, x, x, x, x, x, x, x, x, x^5 + x^4 + x^3 - x^2 + x - 1, x^11 + x^8 + x^6 - x^4 + x^3 + x^2 - x + 1, x^11 - x^10 + x^9 + x^8 - x^7 + x^5 + x^3 + 1, x^16 - x^14 + x^13 - x^12 + x^11 - x^9 + x^7 - x^6 - x^5 - x^3 + x^2 - x + 1]\n",
      "Recovered factor:  x^2 + z\n",
      "\n",
      "\n",
      "Factorizing polynomial:  -x^2*y + x*z + y*z\n",
      "Max Degree:  3\n",
      "Applying Kronecker Map:  x^12 + x^10 - x^5\n",
      "Factors after kronecker map:  [x + 1, x + 1, x, x, x, x, x, x^2 + x - 1, x^3 - x + 1]\n",
      "Given f is irreducible,, returning factor:  -x^2*y + x*z + y*z\n",
      "\n",
      "\n",
      "All factors:  [x^2 + z, -x^2*y + x*z + y*z]\n"
     ]
    }
   ],
   "source": [
    "f = - x^4 * y + x^3 * z + x * z^2 + y * z^2\n",
    "f in R3\n",
    "\n",
    "G = []\n",
    "\n",
    "while f != 1:\n",
    "    print(\"Factorizing polynomial: \", f)\n",
    "    g = kronecker_get_factor(f, R3)\n",
    "    f = f //g\n",
    "    G.append(g)\n",
    "    print(\"\\n\")\n",
    "    \n",
    "print(\"All factors: \", G)"
   ]
  },
  {
   "cell_type": "code",
   "execution_count": 0,
   "metadata": {
    "collapsed": false
   },
   "outputs": [
   ],
   "source": [
   ]
  },
  {
   "cell_type": "code",
   "execution_count": 0,
   "metadata": {
    "collapsed": false
   },
   "outputs": [
   ],
   "source": [
   ]
  }
 ],
 "metadata": {
  "kernelspec": {
   "argv": [
    "sage-10.3",
    "--python",
    "-m",
    "sage.repl.ipython_kernel",
    "--matplotlib=inline",
    "-f",
    "{connection_file}"
   ],
   "display_name": "SageMath 10.3",
   "env": {
   },
   "language": "sagemath",
   "metadata": {
    "cocalc": {
     "description": "Open-source mathematical software system",
     "priority": 10,
     "url": "https://www.sagemath.org/"
    }
   },
   "name": "sage-10.3",
   "resource_dir": "/ext/jupyter/kernels/sage-10.3"
  },
  "language_info": {
   "codemirror_mode": {
    "name": "ipython",
    "version": 3
   },
   "file_extension": ".py",
   "mimetype": "text/x-python",
   "name": "python",
   "nbconvert_exporter": "python",
   "pygments_lexer": "ipython3",
   "version": "3.11.1"
  }
 },
 "nbformat": 4,
 "nbformat_minor": 4
}